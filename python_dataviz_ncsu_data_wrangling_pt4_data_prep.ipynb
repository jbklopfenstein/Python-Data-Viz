{
 "cells": [
  {
   "cell_type": "code",
   "execution_count": 43,
   "metadata": {},
   "outputs": [
    {
     "name": "stdout",
     "output_type": "stream",
     "text": [
      "Setup Complete\n"
     ]
    }
   ],
   "source": [
    "import pandas as pd\n",
    "import matplotlib.pyplot as plt\n",
    "plt.style.use('ggplot')\n",
    "%matplotlib inline\n",
    "import seaborn as sns\n",
    "# using this to show stats such as the correlation coefficient between 2 variables\n",
    "import scipy.stats as stats\n",
    "# need this to explicitly register converters for future version of panda\n",
    "from pandas.plotting import register_matplotlib_converters\n",
    "print(\"Setup Complete\")"
   ]
  },
  {
   "cell_type": "code",
   "execution_count": 44,
   "metadata": {},
   "outputs": [
    {
     "name": "stdout",
     "output_type": "stream",
     "text": [
      "Done\n"
     ]
    }
   ],
   "source": [
    "# Path of the file to read.  Note to self: current path is the path of jupyter files(which is C:\\Users\\jklopfen)\n",
    "filepath = \"./Documents/AAAA-DATA-WRANGLING/4-Data-Prep-Homework/Olympic_Data_fixed.csv\"\n",
    "\n",
    "#explicitly register matplotlib converters - required in future versions of panda\n",
    "register_matplotlib_converters()\n",
    "\n",
    "# Read the file into a variable fifa_data\n",
    "olympic_data = pd.read_csv(filepath)\n",
    "print(\"Done\")"
   ]
  },
  {
   "cell_type": "code",
   "execution_count": 32,
   "metadata": {},
   "outputs": [
    {
     "data": {
      "text/plain": [
       "Index(['Name', 'Age', 'Height_cm', 'Weight', 'Sex', 'birth_date',\n",
       "       'birth_place', 'Gold', 'Silver', 'Bronze', 'Total', 'Sport', 'Event'],\n",
       "      dtype='object')"
      ]
     },
     "execution_count": 32,
     "metadata": {},
     "output_type": "execute_result"
    }
   ],
   "source": [
    "# See what variables/columns we're working with. Ensure all columns have underscores for spaces, for working with later\n",
    "olympic_data.columns"
   ]
  },
  {
   "cell_type": "code",
   "execution_count": 46,
   "metadata": {},
   "outputs": [
    {
     "name": "stdout",
     "output_type": "stream",
     "text": [
      "count                73\n",
      "unique               73\n",
      "top       Clark Burckle\n",
      "freq                  1\n",
      "Name: Name, dtype: object\n"
     ]
    }
   ],
   "source": [
    "# Set the input variable X to Names and look for evidence of duplicate entries\n",
    "\n",
    "X = olympic_data.Name\n",
    "print(X.describe())"
   ]
  },
  {
   "cell_type": "code",
   "execution_count": 45,
   "metadata": {},
   "outputs": [],
   "source": [
    "# Remove Dupes and replay the previous cell\n",
    "olympic_data.drop_duplicates(subset = \"Name\", \n",
    "                     keep = False, inplace = True)"
   ]
  },
  {
   "cell_type": "code",
   "execution_count": 47,
   "metadata": {},
   "outputs": [
    {
     "data": {
      "text/html": [
       "<div>\n",
       "<style scoped>\n",
       "    .dataframe tbody tr th:only-of-type {\n",
       "        vertical-align: middle;\n",
       "    }\n",
       "\n",
       "    .dataframe tbody tr th {\n",
       "        vertical-align: top;\n",
       "    }\n",
       "\n",
       "    .dataframe thead th {\n",
       "        text-align: right;\n",
       "    }\n",
       "</style>\n",
       "<table border=\"1\" class=\"dataframe\">\n",
       "  <thead>\n",
       "    <tr style=\"text-align: right;\">\n",
       "      <th></th>\n",
       "      <th>Age</th>\n",
       "      <th>Height_cm</th>\n",
       "      <th>Weight</th>\n",
       "      <th>Gold</th>\n",
       "      <th>Silver</th>\n",
       "      <th>Bronze</th>\n",
       "      <th>Total</th>\n",
       "    </tr>\n",
       "  </thead>\n",
       "  <tbody>\n",
       "    <tr>\n",
       "      <th>count</th>\n",
       "      <td>73.000000</td>\n",
       "      <td>73.000000</td>\n",
       "      <td>73.000000</td>\n",
       "      <td>73.000000</td>\n",
       "      <td>73.000000</td>\n",
       "      <td>73.000000</td>\n",
       "      <td>73.000000</td>\n",
       "    </tr>\n",
       "    <tr>\n",
       "      <th>mean</th>\n",
       "      <td>25.164384</td>\n",
       "      <td>173.356164</td>\n",
       "      <td>76.917808</td>\n",
       "      <td>0.301370</td>\n",
       "      <td>0.191781</td>\n",
       "      <td>0.136986</td>\n",
       "      <td>0.630137</td>\n",
       "    </tr>\n",
       "    <tr>\n",
       "      <th>std</th>\n",
       "      <td>7.877559</td>\n",
       "      <td>37.513838</td>\n",
       "      <td>12.852533</td>\n",
       "      <td>0.593599</td>\n",
       "      <td>0.461204</td>\n",
       "      <td>0.346212</td>\n",
       "      <td>1.034231</td>\n",
       "    </tr>\n",
       "    <tr>\n",
       "      <th>min</th>\n",
       "      <td>0.000000</td>\n",
       "      <td>0.000000</td>\n",
       "      <td>53.000000</td>\n",
       "      <td>0.000000</td>\n",
       "      <td>0.000000</td>\n",
       "      <td>0.000000</td>\n",
       "      <td>0.000000</td>\n",
       "    </tr>\n",
       "    <tr>\n",
       "      <th>25%</th>\n",
       "      <td>21.000000</td>\n",
       "      <td>173.000000</td>\n",
       "      <td>66.000000</td>\n",
       "      <td>0.000000</td>\n",
       "      <td>0.000000</td>\n",
       "      <td>0.000000</td>\n",
       "      <td>0.000000</td>\n",
       "    </tr>\n",
       "    <tr>\n",
       "      <th>50%</th>\n",
       "      <td>24.000000</td>\n",
       "      <td>183.000000</td>\n",
       "      <td>77.000000</td>\n",
       "      <td>0.000000</td>\n",
       "      <td>0.000000</td>\n",
       "      <td>0.000000</td>\n",
       "      <td>0.000000</td>\n",
       "    </tr>\n",
       "    <tr>\n",
       "      <th>75%</th>\n",
       "      <td>28.000000</td>\n",
       "      <td>188.000000</td>\n",
       "      <td>88.000000</td>\n",
       "      <td>0.000000</td>\n",
       "      <td>0.000000</td>\n",
       "      <td>0.000000</td>\n",
       "      <td>1.000000</td>\n",
       "    </tr>\n",
       "    <tr>\n",
       "      <th>max</th>\n",
       "      <td>46.000000</td>\n",
       "      <td>203.000000</td>\n",
       "      <td>104.000000</td>\n",
       "      <td>2.000000</td>\n",
       "      <td>2.000000</td>\n",
       "      <td>1.000000</td>\n",
       "      <td>5.000000</td>\n",
       "    </tr>\n",
       "  </tbody>\n",
       "</table>\n",
       "</div>"
      ],
      "text/plain": [
       "             Age   Height_cm      Weight       Gold     Silver     Bronze  \\\n",
       "count  73.000000   73.000000   73.000000  73.000000  73.000000  73.000000   \n",
       "mean   25.164384  173.356164   76.917808   0.301370   0.191781   0.136986   \n",
       "std     7.877559   37.513838   12.852533   0.593599   0.461204   0.346212   \n",
       "min     0.000000    0.000000   53.000000   0.000000   0.000000   0.000000   \n",
       "25%    21.000000  173.000000   66.000000   0.000000   0.000000   0.000000   \n",
       "50%    24.000000  183.000000   77.000000   0.000000   0.000000   0.000000   \n",
       "75%    28.000000  188.000000   88.000000   0.000000   0.000000   0.000000   \n",
       "max    46.000000  203.000000  104.000000   2.000000   2.000000   1.000000   \n",
       "\n",
       "           Total  \n",
       "count  73.000000  \n",
       "mean    0.630137  \n",
       "std     1.034231  \n",
       "min     0.000000  \n",
       "25%     0.000000  \n",
       "50%     0.000000  \n",
       "75%     1.000000  \n",
       "max     5.000000  "
      ]
     },
     "execution_count": 47,
     "metadata": {},
     "output_type": "execute_result"
    }
   ],
   "source": [
    "# Get summary of the whole dataframe.  Also check Count for evidence of missing values and fix, and repull csv into pandas\n",
    "# and recheck\n",
    "# Fix depends on what want to do.  Either impute with value as/if it makes sense and document(remember how values affect the mean) \n",
    "# or remove\n",
    "# If remove, use pandas' \"dropna\" method (refer back to my kaggle dataprep notebook), and document.\n",
    "olympic_data.describe()"
   ]
  },
  {
   "cell_type": "code",
   "execution_count": 48,
   "metadata": {},
   "outputs": [
    {
     "data": {
      "text/plain": [
       "Beach Volleyball     7\n",
       "Shooting            17\n",
       "Swimming            45\n",
       "Table Tennis         4\n",
       "Name: Sport, dtype: int64"
      ]
     },
     "execution_count": 48,
     "metadata": {},
     "output_type": "execute_result"
    }
   ],
   "source": [
    "# Check for misspelled and abbreviated values in each column using pandas' value_counts()\n",
    "# also can check for missing values using the dropna=False arg\n",
    "# also can use the additional sort method to make it visually easier\n",
    "# Fix/remove as appropriate, and repull csv into pandas, and redo\n",
    "olympic_data[\"Sport\"].value_counts(dropna=False).sort_index()"
   ]
  },
  {
   "cell_type": "code",
   "execution_count": 49,
   "metadata": {},
   "outputs": [
    {
     "data": {
      "text/html": [
       "<div>\n",
       "<style scoped>\n",
       "    .dataframe tbody tr th:only-of-type {\n",
       "        vertical-align: middle;\n",
       "    }\n",
       "\n",
       "    .dataframe tbody tr th {\n",
       "        vertical-align: top;\n",
       "    }\n",
       "\n",
       "    .dataframe thead th {\n",
       "        text-align: right;\n",
       "    }\n",
       "</style>\n",
       "<table border=\"1\" class=\"dataframe\">\n",
       "  <thead>\n",
       "    <tr style=\"text-align: right;\">\n",
       "      <th></th>\n",
       "      <th>Name</th>\n",
       "      <th>Age</th>\n",
       "      <th>Height_cm</th>\n",
       "      <th>Weight</th>\n",
       "      <th>Sex</th>\n",
       "      <th>birth_date</th>\n",
       "      <th>birth_place</th>\n",
       "      <th>Gold</th>\n",
       "      <th>Silver</th>\n",
       "      <th>Bronze</th>\n",
       "      <th>Total</th>\n",
       "      <th>Sport</th>\n",
       "      <th>Event</th>\n",
       "    </tr>\n",
       "  </thead>\n",
       "  <tbody>\n",
       "    <tr>\n",
       "      <th>0</th>\n",
       "      <td>Cammile Adams</td>\n",
       "      <td>20</td>\n",
       "      <td>173</td>\n",
       "      <td>65</td>\n",
       "      <td>F</td>\n",
       "      <td>9/11/1991</td>\n",
       "      <td>Houston (USA)</td>\n",
       "      <td>0</td>\n",
       "      <td>0</td>\n",
       "      <td>0</td>\n",
       "      <td>0</td>\n",
       "      <td>Swimming</td>\n",
       "      <td>Women's 200m Butterfly</td>\n",
       "    </tr>\n",
       "    <tr>\n",
       "      <th>1</th>\n",
       "      <td>Nathan Adrian</td>\n",
       "      <td>23</td>\n",
       "      <td>201</td>\n",
       "      <td>102</td>\n",
       "      <td>M</td>\n",
       "      <td>12/7/1988</td>\n",
       "      <td>Bremerton (USA)</td>\n",
       "      <td>1</td>\n",
       "      <td>1</td>\n",
       "      <td>0</td>\n",
       "      <td>2</td>\n",
       "      <td>Swimming</td>\n",
       "      <td>Men's 100m Freestyle, Men's 4x100m Freestyle R...</td>\n",
       "    </tr>\n",
       "    <tr>\n",
       "      <th>4</th>\n",
       "      <td>Haley Anderson</td>\n",
       "      <td>20</td>\n",
       "      <td>178</td>\n",
       "      <td>68</td>\n",
       "      <td>F</td>\n",
       "      <td>11/20/1991</td>\n",
       "      <td>Santa Clara (USA)</td>\n",
       "      <td>0</td>\n",
       "      <td>0</td>\n",
       "      <td>0</td>\n",
       "      <td>0</td>\n",
       "      <td>Swimming</td>\n",
       "      <td>Women's 10km Marathon</td>\n",
       "    </tr>\n",
       "    <tr>\n",
       "      <th>5</th>\n",
       "      <td>Amanda Furrer</td>\n",
       "      <td>0</td>\n",
       "      <td>168</td>\n",
       "      <td>56</td>\n",
       "      <td>F</td>\n",
       "      <td>1/17/1991</td>\n",
       "      <td>Spokane (USA)</td>\n",
       "      <td>0</td>\n",
       "      <td>0</td>\n",
       "      <td>0</td>\n",
       "      <td>0</td>\n",
       "      <td>Shooting</td>\n",
       "      <td>Women's 50m Rifle 3 Positions</td>\n",
       "    </tr>\n",
       "    <tr>\n",
       "      <th>6</th>\n",
       "      <td>Ariel Hsing</td>\n",
       "      <td>16</td>\n",
       "      <td>165</td>\n",
       "      <td>54</td>\n",
       "      <td>F</td>\n",
       "      <td>11/29/1995</td>\n",
       "      <td>Fremont (USA)</td>\n",
       "      <td>0</td>\n",
       "      <td>0</td>\n",
       "      <td>0</td>\n",
       "      <td>0</td>\n",
       "      <td>Table Tennis</td>\n",
       "      <td>Women's Singles, Women's Team</td>\n",
       "    </tr>\n",
       "  </tbody>\n",
       "</table>\n",
       "</div>"
      ],
      "text/plain": [
       "             Name  Age  Height_cm  Weight Sex  birth_date        birth_place  \\\n",
       "0   Cammile Adams   20        173      65   F   9/11/1991      Houston (USA)   \n",
       "1   Nathan Adrian   23        201     102   M   12/7/1988    Bremerton (USA)   \n",
       "4  Haley Anderson   20        178      68   F  11/20/1991  Santa Clara (USA)   \n",
       "5   Amanda Furrer    0        168      56   F   1/17/1991      Spokane (USA)   \n",
       "6     Ariel Hsing   16        165      54   F  11/29/1995      Fremont (USA)   \n",
       "\n",
       "   Gold  Silver  Bronze  Total         Sport  \\\n",
       "0     0       0       0      0      Swimming   \n",
       "1     1       1       0      2      Swimming   \n",
       "4     0       0       0      0      Swimming   \n",
       "5     0       0       0      0      Shooting   \n",
       "6     0       0       0      0  Table Tennis   \n",
       "\n",
       "                                               Event  \n",
       "0                             Women's 200m Butterfly  \n",
       "1  Men's 100m Freestyle, Men's 4x100m Freestyle R...  \n",
       "4                              Women's 10km Marathon  \n",
       "5                      Women's 50m Rifle 3 Positions  \n",
       "6                      Women's Singles, Women's Team  "
      ]
     },
     "execution_count": 49,
     "metadata": {},
     "output_type": "execute_result"
    }
   ],
   "source": [
    "# Print the first 5 rows of the data\n",
    "olympic_data.head()"
   ]
  },
  {
   "cell_type": "code",
   "execution_count": 42,
   "metadata": {},
   "outputs": [
    {
     "data": {
      "text/plain": [
       "<matplotlib.axes._subplots.AxesSubplot at 0x20035d52860>"
      ]
     },
     "execution_count": 42,
     "metadata": {},
     "output_type": "execute_result"
    },
    {
     "data": {
      "image/png": "[encoded data removed]",
      "text/plain": [
       "<Figure size 1152x432 with 1 Axes>"
      ]
     },
     "metadata": {
      "needs_background": "light"
     },
     "output_type": "display_data"
    }
   ],
   "source": [
    "# Set the width and height of the figure\n",
    "plt.figure(figsize=(16,6))\n",
    "\n",
    "# Seaborn bar chart showing Male vs Female athletes \n",
    "X = olympic_data[\"Sex\"]\n",
    "sns.countplot(X)"
   ]
  },
  {
   "cell_type": "code",
   "execution_count": 52,
   "metadata": {},
   "outputs": [
    {
     "data": {
      "image/png": "[encoded data removed]",
      "text/plain": [
       "<Figure size 720x504 with 1 Axes>"
      ]
     },
     "metadata": {
      "needs_background": "light"
     },
     "output_type": "display_data"
    }
   ],
   "source": [
    "# Another version using matplotlib for the labels\n",
    "# sex = olympic_data[olympic_data['Sex'].str.contains(\"loss\", na=False)]\n",
    "\n",
    "ax = olympic_data['No_Salt'].plot(kind='barh', figsize=(10,7),\n",
    "                                                 color=\"slateblue\", fontsize=13);\n",
    "ax.set_alpha(0.8)\n",
    "ax.set_title(\"Male vs Female Athletes\", fontsize=18)\n",
    "ax.set_xlabel(\"Count\", fontsize=18);\n",
    "ax.set_xticks([0, 5, 10, 15, 20, 25, 30, 35])\n",
    "\n",
    "# set individual bar lables using above list\n",
    "for i in ax.patches:\n",
    "    # get_width pulls left or right; get_y pushes up or down\n",
    "    ax.text(i.get_width()+.1, i.get_y()+.31, \\\n",
    "            str(round((i.get_width()), 2)), fontsize=15, color='dimgrey')\n",
    "\n",
    "# invert for largest on top \n",
    "ax.invert_yaxis()"
   ]
  },
  {
   "cell_type": "code",
   "execution_count": 56,
   "metadata": {},
   "outputs": [
    {
     "data": {
      "image/png": "[encoded data removed]",
      "text/plain": [
       "<Figure size 720x504 with 1 Axes>"
      ]
     },
     "metadata": {
      "needs_background": "light"
     },
     "output_type": "display_data"
    }
   ],
   "source": [
    "# Another version with matplotlib for labels, plus showing percentage proportions\n",
    "\n",
    "ax = olympic_data['Sex'].value_counts().plot(kind='bar', figsize=(10,7),\n",
    "                                                  color=\"indigo\", fontsize=13);\n",
    "ax.set_alpha(0.8)\n",
    "ax.set_title(\"Male vs Female Athlete Proportions\", fontsize=18)\n",
    "ax.set_ylabel(\"Count\", fontsize=18);\n",
    "ax.set_yticks([0, 5, 10, 15, 20, 25, 30, 35, 40])\n",
    "\n",
    "# create a list to collect the plt.patches data\n",
    "totals = []\n",
    "\n",
    "# find the values and append to list\n",
    "for i in ax.patches:\n",
    "    totals.append(i.get_height())\n",
    "\n",
    "# set individual bar lables using above list\n",
    "total = sum(totals)\n",
    "\n",
    "# set individual bar lables using above list\n",
    "for i in ax.patches:\n",
    "    # get_x pulls left or right; get_height pushes up or down\n",
    "    ax.text(i.get_x()+.12, i.get_height()-3, \\\n",
    "            str(round((i.get_height()/total)*100, 2))+'%', fontsize=22,\n",
    "                color='white')\n"
   ]
  },
  {
   "cell_type": "code",
   "execution_count": 57,
   "metadata": {},
   "outputs": [
    {
     "data": {
      "image/png": "[encoded data removed]",
      "text/plain": [
       "<Figure size 720x504 with 1 Axes>"
      ]
     },
     "metadata": {
      "needs_background": "light"
     },
     "output_type": "display_data"
    }
   ],
   "source": [
    "# Same thing, but looking for percentage of another column/attribute/variable/feature (Sport)\n",
    "\n",
    "ax = olympic_data['Sport'].value_counts().plot(kind='bar', figsize=(10,7),\n",
    "                                                  color=\"indigo\", fontsize=13);\n",
    "ax.set_alpha(0.8)\n",
    "ax.set_title(\"Athlete Proportions per Sport\", fontsize=18)\n",
    "ax.set_ylabel(\"Count\", fontsize=18);\n",
    "ax.set_yticks([0, 5, 10, 15, 20, 25, 30, 35])\n",
    "\n",
    "# create a list to collect the plt.patches data\n",
    "totals = []\n",
    "\n",
    "# find the values and append to list\n",
    "for i in ax.patches:\n",
    "    totals.append(i.get_height())\n",
    "\n",
    "# set individual bar lables using above list\n",
    "total = sum(totals)\n",
    "\n",
    "# set individual bar lables using above list\n",
    "for i in ax.patches:\n",
    "    # get_x pulls left or right; get_height pushes up or down\n",
    "    ax.text(i.get_x()+.12, i.get_height()-3, \\\n",
    "            str(round((i.get_height()/total)*100, 2))+'%', fontsize=22,\n",
    "                color='white')"
   ]
  },
  {
   "cell_type": "code",
   "execution_count": 107,
   "metadata": {},
   "outputs": [
    {
     "data": {
      "text/plain": [
       "<Figure size 1152x432 with 0 Axes>"
      ]
     },
     "metadata": {},
     "output_type": "display_data"
    },
    {
     "data": {
      "image/png": "[encoded data removed]",
      "text/plain": [
       "<Figure size 720x504 with 1 Axes>"
      ]
     },
     "metadata": {
      "needs_background": "light"
     },
     "output_type": "display_data"
    }
   ],
   "source": [
    "# Plotting the Total Sum of a specific column/attribute/axis/variable/feature per another (Total Golds per Sport)\n",
    "\n",
    "# Set the width and height of the figure\n",
    "plt.figure(figsize=(16,6))\n",
    "\n",
    "# So this is Summ'ing the Gold feature column/index, per the Sport column. Could also groupby a list\n",
    "ax = olympic_data.groupby('Sport')[[\"Gold\"]].sum().plot(kind='bar', figsize=(10,7),\n",
    "                                                  color=\"indigo\", fontsize=13);\n",
    "\n",
    "ax.set_alpha(0.8)\n",
    "ax.set_title(\"Total Gold Medals per Sport\", fontsize=18)\n",
    "ax.set_ylabel(\"Count\", fontsize=18);\n",
    "ax.set_yticks([0, 5, 10, 15, 20, 25, 30])\n",
    "\n",
    "# create a list to collect the plt.patches data\n",
    "totals = []\n",
    "\n",
    "# find the values and append to list\n",
    "for i in ax.patches:\n",
    "    totals.append(i.get_height())\n",
    "\n",
    "# set individual bar lables using above list\n",
    "total = sum(totals)\n",
    "\n",
    "# set individual bar lables using above list\n",
    "for i in ax.patches:\n",
    "    # get_x pulls left or right; get_height pushes up or down\n",
    "    ax.text(i.get_x()+.17, i.get_height()-1.5, \\\n",
    "            str(round((i.get_height()), 2)), fontsize=22,\n",
    "                color='white')\n"
   ]
  },
  {
   "cell_type": "code",
   "execution_count": 110,
   "metadata": {},
   "outputs": [
    {
     "data": {
      "text/plain": [
       "<matplotlib.axes._subplots.AxesSubplot at 0x20036d1ae48>"
      ]
     },
     "execution_count": 110,
     "metadata": {},
     "output_type": "execute_result"
    },
    {
     "data": {
      "image/png": "[encoded data removed]",
      "text/plain": [
       "<Figure size 1152x432 with 1 Axes>"
      ]
     },
     "metadata": {
      "needs_background": "light"
     },
     "output_type": "display_data"
    }
   ],
   "source": [
    "# Analyzing Ages per Sport\n",
    "\n",
    "# Set the width and height of the figure\n",
    "plt.figure(figsize=(16,6))\n",
    "\n",
    "# Analyze the relationship between Sport and Age\n",
    "sns.boxplot(x=olympic_data.Sport, y=olympic_data.Age)"
   ]
  },
  {
   "cell_type": "code",
   "execution_count": 111,
   "metadata": {},
   "outputs": [
    {
     "data": {
      "image/png": "[encoded data removed]",
      "text/plain": [
       "<Figure size 1152x432 with 1 Axes>"
      ]
     },
     "metadata": {
      "needs_background": "light"
     },
     "output_type": "display_data"
    }
   ],
   "source": [
    "# Analyzing Ages per Sport, by Gender\n",
    "\n",
    "# Set the width and height of the figure\n",
    "plt.figure(figsize=(16,6))\n",
    "\n",
    "# Analyze the relationship between Sport and Age\n",
    "sns.boxplot(x=olympic_data.Sport, y=olympic_data.Age,\n",
    "            hue=olympic_data.Sex, palette=[\"m\", \"g\"],)\n",
    "sns.despine(offset=10, trim=True)"
   ]
  }
 ],
 "metadata": {
  "kernelspec": {
   "display_name": "Python 3",
   "language": "python",
   "name": "python3"
  },
  "language_info": {
   "codemirror_mode": {
    "name": "ipython",
    "version": 3
   },
   "file_extension": ".py",
   "mimetype": "text/x-python",
   "name": "python",
   "nbconvert_exporter": "python",
   "pygments_lexer": "ipython3",
   "version": "3.7.3"
  }
 },
 "nbformat": 4,
 "nbformat_minor": 2
}
